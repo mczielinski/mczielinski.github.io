{
 "cells": [
  {
   "cell_type": "markdown",
   "metadata": {},
   "source": [
    "# Publications markdown generator for academicpages\n",
    "\n",
    "Takes a TSV of publications with metadata and converts them for use with [academicpages.github.io](academicpages.github.io). This is an interactive Jupyter notebook ([see more info here](http://jupyter-notebook-beginner-guide.readthedocs.io/en/latest/what_is_jupyter.html)). The core python code is also in `publications.py`. Run either from the `markdown_generator` folder after replacing `publications.tsv` with one containing your data.\n",
    "\n",
    "TODO: Make this work with BibTex and other databases of citations, rather than Stuart's non-standard TSV format and citation style.\n"
   ]
  },
  {
   "cell_type": "markdown",
   "metadata": {},
   "source": [
    "## Data format\n",
    "\n",
    "The TSV needs to have the following columns: pub_date, title, venue, excerpt, citation, site_url, and paper_url, with a header at the top. \n",
    "\n",
    "- `excerpt` and `paper_url` can be blank, but the others must have values. \n",
    "- `pub_date` must be formatted as YYYY-MM-DD.\n",
    "- `url_slug` will be the descriptive part of the .md file and the permalink URL for the page about the paper. The .md file will be `YYYY-MM-DD-[url_slug].md` and the permalink will be `https://[yourdomain]/publications/YYYY-MM-DD-[url_slug]`\n",
    "\n",
    "This is how the raw file looks (it doesn't look pretty, use a spreadsheet or other program to edit and create)."
   ]
  },
  {
   "cell_type": "code",
   "execution_count": 1,
   "metadata": {},
   "outputs": [
    {
     "name": "stdout",
     "output_type": "stream",
     "text": [
      "pub_date\ttitle\tvenue\texcerpt\tcitation\turl_slug\tpaper_url\r\n",
      "2012\tThe effect of surface wave propagation on neural responses to vibration in primate glabrous skin.\tPloS one\t\tManfredi LR, Baker AT, Elias DO, Dammann III JF, Zielinski MC, Polashock VS, Bensmaia SJ. The effect of surface wave propagation on neural responses to vibration in primate glabrous skin. PloS one. 2012;7(2):e31203. \tNeuro-1\t\r\n",
      "2012\tQuantification of islet size and architecture.\tIslets\t\tKilimnik G, Jo J, Periwal V, Zielinski MC, Hara M. Quantification of islet size and architecture. Islets. 2012;4(2):167–172.\tDiabetes-1\t\r\n",
      "2013\tQuantitative analysis of pancreatic polypeptide cell distribution in the human pancreas.\tPloS one\t\tWang X, Zielinski MC, Misawa R, Wen P, Wang T-Y, Wang C-Z, Witkowski P, Hara M. Quantitative analysis of pancreatic polypeptide cell distribution in the human pancreas. PloS one. 2013;8(1):e55501. \tDiabetes-2\t\r\n",
      "2013\tRegional differences in islet distribution in the human pancreas--preferential beta-cell loss in the head region in patients with type 2 diabetes.\tPloS one\t\tWang X, Misawa R, Zielinski MC, Cowen P, Jo J, Periwal V, Ricordi C, Khan A, Szust J, Shen J. Regional differences in islet distribution in the human pancreas--preferential beta-cell loss in the head region in patients with type 2 diabetes. PLoS One. 2013;8(6). \tDiabetes-3\t\r\n",
      "2013\tDistinct function of the head region of human pancreas in the pathogenesis of diabetes.\tIslets\t\tSavari O, Zielinski MC, Wang X, Misawa R, Millis JM, Witkowski P, Hara M. Distinct function of the head region of human pancreas in the pathogenesis of diabetes. Islets. 2013;5(5):226–228.\tDiabetes-4\t\r\n",
      "2014\tNatural scenes in tactile texture.\tJournal of neurophysiology\t\tManfredi LR, Saal HP, Brown KJ, Zielinski MC, Dammann JF, Polashock VS, Bensmaia SJ. Natural scenes in tactile texture. Journal of neurophysiology. 2014;111(9):1792–1802. \tNeuro-2\t\r\n",
      "2014\tImproved coating of pancreatic islets with regulatory T cells to create local immunosuppression by using the biotin-polyethylene glycol-succinimidyl valeric acid ester molecule.\tTransplantation proceedings\t\tGołąb K, Kizilel S, Bal T, Hara M, Zielinski M, Grose R, Savari O, Wang X-J, Wang L-J, Tibudan M. Improved Coating of Pancreatic Islets With Regulatory T cells to Create Local Immunosuppression by Using the Biotin-polyethylene Glycol-succinimidyl Valeric Acid Ester Molecule. Transplantation proceedings. 2014;46(6):1967–1971.\tDiabetes-4\t\r\n",
      "2015\tEvidence of non-pancreatic beta cell-dependent roles of Tcf7l2 in the regulation of glucose metabolism in mice.\tHuman molecular genetics\t\tBailey KA, Savic D, Zielinski M, Park S-Y, Wang L, Witkowski P, Brady M, Hara M, Bell GI, Nobrega MA. Evidence of non-pancreatic beta cell-dependent roles of Tcf7l2 in the regulation of glucose metabolism in mice. Human molecular genetics. 2015;24(6):1646–1654. \tDiabetes-5\t\r\n",
      "2016\tStereological analyses of the whole human pancreas.\tScientific reports\t\tA Poudel, JL Fowler, MC Zielinski, G Kilimnik, M Hara. Stereological analyses of the whole human pancreas. Scientific Reports. 2016;6:34049. \tDiabetes-6\t\r\n",
      "2016\tInterplay between Hippocampal Sharp-Wave-Ripple Events and Vicarious Trial and Error Behaviors in Decision Making.\tNeuron\t\tAE Papale, MC Zielinski, LM Frank, SP Jadhav, AD Redish. Interplay between hippocampal sharp wave ripple events and vicarious trial and error behaviors in decision making. Neuron. 2016;92(5):975-982.\tNeuro-3\t\r\n",
      "2017\tPreservation of Reduced Numbers of Insulin-Positive Cells in Sulfonylurea-Unresponsive KCNJ11-Related Diabetes.\tThe Journal of clinical endocrinology and metabolism\t\tSA Greeley, MC Zielinski, A Poudel, H Ye, S Berry, JB Taxy, D Carmody, DF Steiner, LH Philipson, JR Wood, M Hara. Preservation of Reduced Numbers of Insulin-Positive Cells in Sulfonylurea-Unresponsive KCNJ11-Related Diabetes. Journal of Clinical Endocrinology and Metabolism. 2017;102(1):1-5.\tDiabetes-7\t\r\n",
      "2017\tThe role of replay and theta sequences in mediating hippocampal-prefrontal interactions for memory and cognition.\tHippocampus\t\tMC Zielinski, W Tang, SP Jadhav. The role of replay and theta sequences in mediating hippocampal-prefrontal interactions for memory and cognition Hippocampus. 2017;10.1002/hipo.22821\tNeuro-4\t\r\n"
     ]
    }
   ],
   "source": [
    "!cat publications.tsv"
   ]
  },
  {
   "cell_type": "markdown",
   "metadata": {},
   "source": [
    "## Import pandas\n",
    "\n",
    "We are using the very handy pandas library for dataframes."
   ]
  },
  {
   "cell_type": "code",
   "execution_count": 2,
   "metadata": {},
   "outputs": [],
   "source": [
    "import pandas as pd"
   ]
  },
  {
   "cell_type": "markdown",
   "metadata": {},
   "source": [
    "## Import TSV\n",
    "\n",
    "Pandas makes this easy with the read_csv function. We are using a TSV, so we specify the separator as a tab, or `\\t`.\n",
    "\n",
    "I found it important to put this data in a tab-separated values format, because there are a lot of commas in this kind of data and comma-separated values can get messed up. However, you can modify the import statement, as pandas also has read_excel(), read_json(), and others."
   ]
  },
  {
   "cell_type": "code",
   "execution_count": 3,
   "metadata": {},
   "outputs": [
    {
     "data": {
      "text/html": [
       "<div>\n",
       "<style scoped>\n",
       "    .dataframe tbody tr th:only-of-type {\n",
       "        vertical-align: middle;\n",
       "    }\n",
       "\n",
       "    .dataframe tbody tr th {\n",
       "        vertical-align: top;\n",
       "    }\n",
       "\n",
       "    .dataframe thead th {\n",
       "        text-align: right;\n",
       "    }\n",
       "</style>\n",
       "<table border=\"1\" class=\"dataframe\">\n",
       "  <thead>\n",
       "    <tr style=\"text-align: right;\">\n",
       "      <th></th>\n",
       "      <th>pub_date</th>\n",
       "      <th>title</th>\n",
       "      <th>venue</th>\n",
       "      <th>excerpt</th>\n",
       "      <th>citation</th>\n",
       "      <th>url_slug</th>\n",
       "      <th>paper_url</th>\n",
       "    </tr>\n",
       "  </thead>\n",
       "  <tbody>\n",
       "    <tr>\n",
       "      <th>0</th>\n",
       "      <td>2012</td>\n",
       "      <td>The effect of surface wave propagation on neur...</td>\n",
       "      <td>PloS one</td>\n",
       "      <td>NaN</td>\n",
       "      <td>Manfredi LR, Baker AT, Elias DO, Dammann III J...</td>\n",
       "      <td>Neuro-1</td>\n",
       "      <td>NaN</td>\n",
       "    </tr>\n",
       "    <tr>\n",
       "      <th>1</th>\n",
       "      <td>2012</td>\n",
       "      <td>Quantification of islet size and architecture.</td>\n",
       "      <td>Islets</td>\n",
       "      <td>NaN</td>\n",
       "      <td>Kilimnik G, Jo J, Periwal V, Zielinski MC, Har...</td>\n",
       "      <td>Diabetes-1</td>\n",
       "      <td>NaN</td>\n",
       "    </tr>\n",
       "    <tr>\n",
       "      <th>2</th>\n",
       "      <td>2013</td>\n",
       "      <td>Quantitative analysis of pancreatic polypeptid...</td>\n",
       "      <td>PloS one</td>\n",
       "      <td>NaN</td>\n",
       "      <td>Wang X, Zielinski MC, Misawa R, Wen P, Wang T-...</td>\n",
       "      <td>Diabetes-2</td>\n",
       "      <td>NaN</td>\n",
       "    </tr>\n",
       "    <tr>\n",
       "      <th>3</th>\n",
       "      <td>2013</td>\n",
       "      <td>Regional differences in islet distribution in ...</td>\n",
       "      <td>PloS one</td>\n",
       "      <td>NaN</td>\n",
       "      <td>Wang X, Misawa R, Zielinski MC, Cowen P, Jo J,...</td>\n",
       "      <td>Diabetes-3</td>\n",
       "      <td>NaN</td>\n",
       "    </tr>\n",
       "    <tr>\n",
       "      <th>4</th>\n",
       "      <td>2013</td>\n",
       "      <td>Distinct function of the head region of human ...</td>\n",
       "      <td>Islets</td>\n",
       "      <td>NaN</td>\n",
       "      <td>Savari O, Zielinski MC, Wang X, Misawa R, Mill...</td>\n",
       "      <td>Diabetes-4</td>\n",
       "      <td>NaN</td>\n",
       "    </tr>\n",
       "    <tr>\n",
       "      <th>5</th>\n",
       "      <td>2014</td>\n",
       "      <td>Natural scenes in tactile texture.</td>\n",
       "      <td>Journal of neurophysiology</td>\n",
       "      <td>NaN</td>\n",
       "      <td>Manfredi LR, Saal HP, Brown KJ, Zielinski MC, ...</td>\n",
       "      <td>Neuro-2</td>\n",
       "      <td>NaN</td>\n",
       "    </tr>\n",
       "    <tr>\n",
       "      <th>6</th>\n",
       "      <td>2014</td>\n",
       "      <td>Improved coating of pancreatic islets with reg...</td>\n",
       "      <td>Transplantation proceedings</td>\n",
       "      <td>NaN</td>\n",
       "      <td>Gołąb K, Kizilel S, Bal T, Hara M, Zielinski M...</td>\n",
       "      <td>Diabetes-4</td>\n",
       "      <td>NaN</td>\n",
       "    </tr>\n",
       "    <tr>\n",
       "      <th>7</th>\n",
       "      <td>2015</td>\n",
       "      <td>Evidence of non-pancreatic beta cell-dependent...</td>\n",
       "      <td>Human molecular genetics</td>\n",
       "      <td>NaN</td>\n",
       "      <td>Bailey KA, Savic D, Zielinski M, Park S-Y, Wan...</td>\n",
       "      <td>Diabetes-5</td>\n",
       "      <td>NaN</td>\n",
       "    </tr>\n",
       "    <tr>\n",
       "      <th>8</th>\n",
       "      <td>2016</td>\n",
       "      <td>Stereological analyses of the whole human panc...</td>\n",
       "      <td>Scientific reports</td>\n",
       "      <td>NaN</td>\n",
       "      <td>A Poudel, JL Fowler, MC Zielinski, G Kilimnik,...</td>\n",
       "      <td>Diabetes-6</td>\n",
       "      <td>NaN</td>\n",
       "    </tr>\n",
       "    <tr>\n",
       "      <th>9</th>\n",
       "      <td>2016</td>\n",
       "      <td>Interplay between Hippocampal Sharp-Wave-Rippl...</td>\n",
       "      <td>Neuron</td>\n",
       "      <td>NaN</td>\n",
       "      <td>AE Papale, MC Zielinski, LM Frank, SP Jadhav, ...</td>\n",
       "      <td>Neuro-3</td>\n",
       "      <td>NaN</td>\n",
       "    </tr>\n",
       "    <tr>\n",
       "      <th>10</th>\n",
       "      <td>2017</td>\n",
       "      <td>Preservation of Reduced Numbers of Insulin-Pos...</td>\n",
       "      <td>The Journal of clinical endocrinology and meta...</td>\n",
       "      <td>NaN</td>\n",
       "      <td>SA Greeley, MC Zielinski, A Poudel, H Ye, S Be...</td>\n",
       "      <td>Diabetes-7</td>\n",
       "      <td>NaN</td>\n",
       "    </tr>\n",
       "    <tr>\n",
       "      <th>11</th>\n",
       "      <td>2017</td>\n",
       "      <td>The role of replay and theta sequences in medi...</td>\n",
       "      <td>Hippocampus</td>\n",
       "      <td>NaN</td>\n",
       "      <td>MC Zielinski, W Tang, SP Jadhav. The role of r...</td>\n",
       "      <td>Neuro-4</td>\n",
       "      <td>NaN</td>\n",
       "    </tr>\n",
       "  </tbody>\n",
       "</table>\n",
       "</div>"
      ],
      "text/plain": [
       "    pub_date                                              title  \\\n",
       "0       2012  The effect of surface wave propagation on neur...   \n",
       "1       2012     Quantification of islet size and architecture.   \n",
       "2       2013  Quantitative analysis of pancreatic polypeptid...   \n",
       "3       2013  Regional differences in islet distribution in ...   \n",
       "4       2013  Distinct function of the head region of human ...   \n",
       "5       2014                 Natural scenes in tactile texture.   \n",
       "6       2014  Improved coating of pancreatic islets with reg...   \n",
       "7       2015  Evidence of non-pancreatic beta cell-dependent...   \n",
       "8       2016  Stereological analyses of the whole human panc...   \n",
       "9       2016  Interplay between Hippocampal Sharp-Wave-Rippl...   \n",
       "10      2017  Preservation of Reduced Numbers of Insulin-Pos...   \n",
       "11      2017  The role of replay and theta sequences in medi...   \n",
       "\n",
       "                                                venue  excerpt  \\\n",
       "0                                            PloS one      NaN   \n",
       "1                                              Islets      NaN   \n",
       "2                                            PloS one      NaN   \n",
       "3                                            PloS one      NaN   \n",
       "4                                              Islets      NaN   \n",
       "5                          Journal of neurophysiology      NaN   \n",
       "6                         Transplantation proceedings      NaN   \n",
       "7                            Human molecular genetics      NaN   \n",
       "8                                  Scientific reports      NaN   \n",
       "9                                              Neuron      NaN   \n",
       "10  The Journal of clinical endocrinology and meta...      NaN   \n",
       "11                                        Hippocampus      NaN   \n",
       "\n",
       "                                             citation    url_slug  paper_url  \n",
       "0   Manfredi LR, Baker AT, Elias DO, Dammann III J...     Neuro-1        NaN  \n",
       "1   Kilimnik G, Jo J, Periwal V, Zielinski MC, Har...  Diabetes-1        NaN  \n",
       "2   Wang X, Zielinski MC, Misawa R, Wen P, Wang T-...  Diabetes-2        NaN  \n",
       "3   Wang X, Misawa R, Zielinski MC, Cowen P, Jo J,...  Diabetes-3        NaN  \n",
       "4   Savari O, Zielinski MC, Wang X, Misawa R, Mill...  Diabetes-4        NaN  \n",
       "5   Manfredi LR, Saal HP, Brown KJ, Zielinski MC, ...     Neuro-2        NaN  \n",
       "6   Gołąb K, Kizilel S, Bal T, Hara M, Zielinski M...  Diabetes-4        NaN  \n",
       "7   Bailey KA, Savic D, Zielinski M, Park S-Y, Wan...  Diabetes-5        NaN  \n",
       "8   A Poudel, JL Fowler, MC Zielinski, G Kilimnik,...  Diabetes-6        NaN  \n",
       "9   AE Papale, MC Zielinski, LM Frank, SP Jadhav, ...     Neuro-3        NaN  \n",
       "10  SA Greeley, MC Zielinski, A Poudel, H Ye, S Be...  Diabetes-7        NaN  \n",
       "11  MC Zielinski, W Tang, SP Jadhav. The role of r...     Neuro-4        NaN  "
      ]
     },
     "execution_count": 3,
     "metadata": {},
     "output_type": "execute_result"
    }
   ],
   "source": [
    "publications = pd.read_csv(\"publications.tsv\", sep=\"\\t\", header=0)\n",
    "publications\n"
   ]
  },
  {
   "cell_type": "markdown",
   "metadata": {},
   "source": [
    "## Escape special characters\n",
    "\n",
    "YAML is very picky about how it takes a valid string, so we are replacing single and double quotes (and ampersands) with their HTML encoded equivilents. This makes them look not so readable in raw format, but they are parsed and rendered nicely."
   ]
  },
  {
   "cell_type": "code",
   "execution_count": 4,
   "metadata": {},
   "outputs": [],
   "source": [
    "html_escape_table = {\n",
    "    \"&\": \"&amp;\",\n",
    "    '\"': \"&quot;\",\n",
    "    \"'\": \"&apos;\"\n",
    "    }\n",
    "\n",
    "def html_escape(text):\n",
    "    \"\"\"Produce entities within text.\"\"\"\n",
    "    return \"\".join(html_escape_table.get(c,c) for c in text)"
   ]
  },
  {
   "cell_type": "markdown",
   "metadata": {},
   "source": [
    "## Creating the markdown files\n",
    "\n",
    "This is where the heavy lifting is done. This loops through all the rows in the TSV dataframe, then starts to concatentate a big string (```md```) that contains the markdown for each type. It does the YAML metadata first, then does the description for the individual page."
   ]
  },
  {
   "cell_type": "code",
   "execution_count": 5,
   "metadata": {},
   "outputs": [
    {
     "ename": "TypeError",
     "evalue": "'int' object is not subscriptable",
     "output_type": "error",
     "traceback": [
      "\u001b[0;31m---------------------------------------------------------------------------\u001b[0m",
      "\u001b[0;31mTypeError\u001b[0m                                 Traceback (most recent call last)",
      "\u001b[0;32m<ipython-input-5-592da968cbd3>\u001b[0m in \u001b[0;36m<module>\u001b[0;34m\u001b[0m\n\u001b[1;32m      4\u001b[0m     \u001b[0mmd_filename\u001b[0m \u001b[0;34m=\u001b[0m \u001b[0mstr\u001b[0m\u001b[0;34m(\u001b[0m\u001b[0mitem\u001b[0m\u001b[0;34m.\u001b[0m\u001b[0mpub_date\u001b[0m\u001b[0;34m)\u001b[0m \u001b[0;34m+\u001b[0m \u001b[0;34m\"-\"\u001b[0m \u001b[0;34m+\u001b[0m \u001b[0mitem\u001b[0m\u001b[0;34m.\u001b[0m\u001b[0murl_slug\u001b[0m \u001b[0;34m+\u001b[0m \u001b[0;34m\".md\"\u001b[0m\u001b[0;34m\u001b[0m\u001b[0;34m\u001b[0m\u001b[0m\n\u001b[1;32m      5\u001b[0m     \u001b[0mhtml_filename\u001b[0m \u001b[0;34m=\u001b[0m \u001b[0mstr\u001b[0m\u001b[0;34m(\u001b[0m\u001b[0mitem\u001b[0m\u001b[0;34m.\u001b[0m\u001b[0mpub_date\u001b[0m\u001b[0;34m)\u001b[0m \u001b[0;34m+\u001b[0m \u001b[0;34m\"-\"\u001b[0m \u001b[0;34m+\u001b[0m \u001b[0mitem\u001b[0m\u001b[0;34m.\u001b[0m\u001b[0murl_slug\u001b[0m\u001b[0;34m\u001b[0m\u001b[0;34m\u001b[0m\u001b[0m\n\u001b[0;32m----> 6\u001b[0;31m     \u001b[0myear\u001b[0m \u001b[0;34m=\u001b[0m \u001b[0mitem\u001b[0m\u001b[0;34m.\u001b[0m\u001b[0mpub_date\u001b[0m\u001b[0;34m[\u001b[0m\u001b[0;34m:\u001b[0m\u001b[0;36m4\u001b[0m\u001b[0;34m]\u001b[0m\u001b[0;34m\u001b[0m\u001b[0;34m\u001b[0m\u001b[0m\n\u001b[0m\u001b[1;32m      7\u001b[0m \u001b[0;34m\u001b[0m\u001b[0m\n\u001b[1;32m      8\u001b[0m     \u001b[0;31m## YAML variables\u001b[0m\u001b[0;34m\u001b[0m\u001b[0;34m\u001b[0m\u001b[0;34m\u001b[0m\u001b[0m\n",
      "\u001b[0;31mTypeError\u001b[0m: 'int' object is not subscriptable"
     ]
    }
   ],
   "source": [
    "import os\n",
    "for row, item in publications.iterrows():\n",
    "    \n",
    "    md_filename = str(item.pub_date) + \"-\" + item.url_slug + \".md\"\n",
    "    html_filename = str(item.pub_date) + \"-\" + item.url_slug\n",
    "    year = item.pub_date[:4]\n",
    "    \n",
    "    ## YAML variables\n",
    "    \n",
    "    md = \"---\\ntitle: \\\"\"   + item.title + '\"\\n'\n",
    "    \n",
    "    md += \"\"\"collection: publications\"\"\"\n",
    "    \n",
    "    md += \"\"\"\\npermalink: /publication/\"\"\" + html_filename\n",
    "    \n",
    "    if len(str(item.excerpt)) > 5:\n",
    "        md += \"\\nexcerpt: '\" + html_escape(item.excerpt) + \"'\"\n",
    "    \n",
    "    md += \"\\ndate: \" + str(item.pub_date) \n",
    "    \n",
    "    md += \"\\nvenue: '\" + html_escape(item.venue) + \"'\"\n",
    "    \n",
    "    if len(str(item.paper_url)) > 5:\n",
    "        md += \"\\npaperurl: '\" + item.paper_url + \"'\"\n",
    "    \n",
    "    md += \"\\ncitation: '\" + html_escape(item.citation) + \"'\"\n",
    "    \n",
    "    md += \"\\n---\"\n",
    "    \n",
    "    ## Markdown description for individual page\n",
    "        \n",
    "    if len(str(item.excerpt)) > 5:\n",
    "        md += \"\\n\" + html_escape(item.excerpt) + \"\\n\"\n",
    "    \n",
    "    if len(str(item.paper_url)) > 5:\n",
    "        md += \"\\n[Download paper here](\" + item.paper_url + \")\\n\" \n",
    "        \n",
    "    md += \"\\nRecommended citation: \" + item.citation\n",
    "    \n",
    "    md_filename = os.path.basename(md_filename)\n",
    "       \n",
    "    with open(\"../_publications/\" + md_filename, 'w') as f:\n",
    "        f.write(md)"
   ]
  },
  {
   "cell_type": "markdown",
   "metadata": {},
   "source": [
    "These files are in the publications directory, one directory below where we're working from."
   ]
  },
  {
   "cell_type": "code",
   "execution_count": 6,
   "metadata": {},
   "outputs": [
    {
     "name": "stdout",
     "output_type": "stream",
     "text": [
      "2009-10-01-paper-title-number-1.md  2015-10-01-paper-title-number-3.md\r\n",
      "2010-10-01-paper-title-number-2.md\r\n"
     ]
    }
   ],
   "source": [
    "!ls ../_publications/"
   ]
  },
  {
   "cell_type": "code",
   "execution_count": 7,
   "metadata": {},
   "outputs": [
    {
     "name": "stdout",
     "output_type": "stream",
     "text": [
      "---\r\n",
      "title: \"Paper Title Number 1\"\r\n",
      "collection: publications\r\n",
      "permalink: /publication/2009-10-01-paper-title-number-1\r\n",
      "excerpt: 'This paper is about the number 1. The number 2 is left for future work.'\r\n",
      "date: 2009-10-01\r\n",
      "venue: 'Journal 1'\r\n",
      "paperurl: 'http://academicpages.github.io/files/paper1.pdf'\r\n",
      "citation: 'Your Name, You. (2009). &quot;Paper Title Number 1.&quot; <i>Journal 1</i>. 1(1).'\r\n",
      "---\r\n",
      "This paper is about the number 1. The number 2 is left for future work.\r\n",
      "\r\n",
      "[Download paper here](http://academicpages.github.io/files/paper1.pdf)\r\n",
      "\r\n",
      "Recommended citation: Your Name, You. (2009). \"Paper Title Number 1.\" <i>Journal 1</i>. 1(1)."
     ]
    }
   ],
   "source": [
    "!cat ../_publications/2009-10-01-paper-title-number-1.md"
   ]
  },
  {
   "cell_type": "code",
   "execution_count": null,
   "metadata": {
    "collapsed": true
   },
   "outputs": [],
   "source": []
  }
 ],
 "metadata": {
  "kernelspec": {
   "display_name": "Python 3",
   "language": "python",
   "name": "python3"
  },
  "language_info": {
   "codemirror_mode": {
    "name": "ipython",
    "version": 3
   },
   "file_extension": ".py",
   "mimetype": "text/x-python",
   "name": "python",
   "nbconvert_exporter": "python",
   "pygments_lexer": "ipython3",
   "version": "3.7.1"
  }
 },
 "nbformat": 4,
 "nbformat_minor": 1
}
